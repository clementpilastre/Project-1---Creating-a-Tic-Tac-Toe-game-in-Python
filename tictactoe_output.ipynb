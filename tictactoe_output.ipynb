
 When it will be your turn to play, enter the coodonate of the case basing on :

['1', '2', '3']
['4', '5', '6']
['7', '8', '9']
['1', '2', '3', '4', '5', '6', '7', '8', '9']
gamestate is ['1A']

 ['O', '_', '_'] 
 ['_', '_', '_'] 
 ['_', '_', '_']
turn is finished
B play 4 your play is valid
gamestate is  ['1A', '4B']
(['1A', '__', '__'], ['4B', '__', '__'], ['__', '__', '__'])

 ['O', '_', '_'] 
 ['X', '_', '_'] 
 ['_', '_', '_']
turn is finished
(0, False)
A play 2 your play is valid
gamestate is ['1A', '4B', '2A']

 ['O', 'O', '_'] 
 ['X', '_', '_'] 
 ['_', '_', '_']
turn is finished
(0, False)
B play 5 your play is valid
gamestate is  ['1A', '4B', '2A', '5B']
(['1A', '2A', '__'], ['4B', '5B', '__'], ['__', '__', '__'])

 ['O', 'O', '_'] 
 ['X', 'X', '_'] 
 ['_', '_', '_']
turn is finished
(0, False)
A play 3 your play is valid
gamestate is ['1A', '4B', '2A', '5B', '3A']

 ['O', 'O', 'O'] 
 ['X', 'X', '_'] 
 ['_', '_', '_']
turn is finished
('Winner is Player A :)', True)
